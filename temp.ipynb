{
 "cells": [
  {
   "cell_type": "code",
   "execution_count": 13,
   "id": "02ad938b",
   "metadata": {},
   "outputs": [
    {
     "name": "stdout",
     "output_type": "stream",
     "text": [
      ">> {'status': 'ok', 'email': '955d8e52205c@drmail.in'}\n",
      ">> {'email': '955d8e52205c@drmail.in'}\n",
      "[-] No message: 1\n",
      "[-] No message: 1\n",
      "[-] No message: 0\n",
      "[+] Message detected, opening it...\n",
      ">> {'code': '36229501'}\n"
     ]
    }
   ],
   "source": [
    "import undetected_chromedriver as uc\n",
    "import time\n",
    "import os\n",
    "from selenium.webdriver.common.by import By\n",
    "from selenium.webdriver.support.ui import WebDriverWait, Select\n",
    "from selenium.webdriver.support import expected_conditions as EC\n",
    "from temp_mail import mail_worker\n",
    "import multiprocessing\n",
    "\n",
    "parent_conn, child_conn = multiprocessing.Pipe()\n",
    "p = multiprocessing.Process(target=mail_worker, args=(child_conn,))\n",
    "p.start()\n",
    "parent_conn.send(\"start\")\n",
    "print(\">>\", parent_conn.recv())\n",
    "if __name__ == \"__main__\":\n",
    "    opts = uc.ChromeOptions()\n",
    "    opts.add_argument(\"--start-maximized\")\n",
    "\n",
    "    driver = uc.Chrome(options=opts, version_main=138)\n",
    "\n",
    "    driver.get(\"https://www.nike.com/id/member/settings\")\n",
    "\n",
    "    wait = WebDriverWait(driver, 20)\n",
    "\n",
    "    # Select country = Costa Rica (CR)\n",
    "    country_dropdown = wait.until(EC.presence_of_element_located((By.ID, \"country\")))\n",
    "    Select(country_dropdown).select_by_value(\"CR\")\n",
    "\n",
    "    # Fill Email\n",
    "    username_input = WebDriverWait(driver, 20).until(\n",
    "        EC.element_to_be_clickable((By.ID, \"username\"))\n",
    "    )\n",
    "\n",
    "    parent_conn.send(\"get_email\")\n",
    "    msg = parent_conn.recv()\n",
    "    print(\">>\", msg)\n",
    "\n",
    "    username_input.clear()\n",
    "    username_input.send_keys(msg.get(\"email\"))\n",
    "\n",
    "    # Click Continue\n",
    "    continue_btn = wait.until(EC.element_to_be_clickable((By.CSS_SELECTOR, '[aria-label=\"continue\"]')))\n",
    "    continue_btn.click()\n",
    "\n",
    "    parent_conn.send(\"get_code\")\n",
    "    msg = parent_conn.recv()\n",
    "    print(\">>\", msg)\n",
    "\n",
    "    otp_input = wait.until(EC.element_to_be_clickable((By.CSS_SELECTOR, \"#l7r-code-input\")))\n",
    "    otp_input.clear()\n",
    "    otp_input.send_keys(msg.get(\"code\"))\n",
    "\n",
    "    # First name\n",
    "    first_name_input = wait.until(EC.element_to_be_clickable((By.CSS_SELECTOR, \"#l7r-first-name-input\")))\n",
    "    first_name_input.clear()\n",
    "    first_name_input.send_keys(\"John\")\n",
    "\n",
    "    # Last name\n",
    "    last_name_input = wait.until(EC.element_to_be_clickable((By.CSS_SELECTOR, \"#l7r-last-name-input\")))\n",
    "    last_name_input.clear()\n",
    "    last_name_input.send_keys(\"Doe\")\n",
    "\n",
    "    # Password\n",
    "    password_input = wait.until(EC.element_to_be_clickable((By.CSS_SELECTOR, \"#l7r-password-input\")))\n",
    "    password_input.clear()\n",
    "    password_input.send_keys(\"StrongPassword123!\")\n",
    "    # keep session for review\n",
    "    dropdown_element = wait.until(\n",
    "    EC.presence_of_element_located((By.CSS_SELECTOR, \"#l7r-shopping-preference\"))\n",
    ")\n",
    "\n",
    "    # Wrap with Select\n",
    "    dropdown = Select(dropdown_element)\n",
    "\n",
    "    # Select by value\n",
    "    dropdown.select_by_value(\"MENS\")\n",
    "\n",
    "    # --- Type Day ---\n",
    "    day_input = wait.until(EC.element_to_be_clickable((By.ID, \"day\")))\n",
    "    day_input.clear()\n",
    "    day_input.send_keys(\"15\")\n",
    "\n",
    "    # --- Type Month ---\n",
    "    month_input = wait.until(EC.element_to_be_clickable((By.ID, \"month\")))\n",
    "    month_input.clear()\n",
    "    month_input.send_keys(\"08\")\n",
    "\n",
    "    # --- Type Year ---\n",
    "    year_input = wait.until(EC.element_to_be_clickable((By.ID, \"year\")))\n",
    "    year_input.clear()\n",
    "    year_input.send_keys(\"1999\")\n",
    "\n"
   ]
  },
  {
   "cell_type": "code",
   "execution_count": 14,
   "id": "7531b2a7",
   "metadata": {},
   "outputs": [],
   "source": [
    "try:\n",
    "    driver.find_element(By.CSS_SELECTOR, \"#privacyTerms\").click()\n",
    "except Exception as e:\n",
    "    print(\"Error clicking privacyTerms checkbox directly:\", e)"
   ]
  },
  {
   "cell_type": "code",
   "execution_count": 15,
   "id": "605925e2",
   "metadata": {},
   "outputs": [],
   "source": [
    "driver.find_element(By.CSS_SELECTOR, 'button[aria-label=\"Create Account\"]').click()\n"
   ]
  },
  {
   "cell_type": "code",
   "execution_count": 17,
   "id": "da105b0f",
   "metadata": {},
   "outputs": [],
   "source": [
    "driver.find_element(By.CSS_SELECTOR, 'button[aria-label=\"Add Mobile Number\"]').click()"
   ]
  },
  {
   "cell_type": "code",
   "execution_count": 18,
   "id": "0e4df1f8",
   "metadata": {},
   "outputs": [],
   "source": [
    "driver.find_element(By.ID, \"phoneNumber\").send_keys(\"88821854603\")"
   ]
  },
  {
   "cell_type": "code",
   "execution_count": 20,
   "id": "d8712b9d",
   "metadata": {},
   "outputs": [],
   "source": [
    "try:\n",
    "    label = wait.until(EC.element_to_be_clickable((By.CSS_SELECTOR, \"label[for='agreeToTerms']\")))\n",
    "    label.click()\n",
    "\n",
    "except Exception as e:\n",
    "    print(\"Error clicking agreeToTerms checkbox directly:\", e)"
   ]
  },
  {
   "cell_type": "code",
   "execution_count": 23,
   "id": "22dd0c91",
   "metadata": {},
   "outputs": [],
   "source": [
    "try:\n",
    "    send_code_btn = wait.until(EC.element_to_be_clickable((By.CSS_SELECTOR, \"button[data-testid='send-code-button']\")))\n",
    "    send_code_btn.click()\n",
    "except Exception as e:\n",
    "    print(\"Error clicking send-code-button directly:\", e)"
   ]
  },
  {
   "cell_type": "code",
   "execution_count": null,
   "id": "ee17fa4c",
   "metadata": {},
   "outputs": [],
   "source": []
  }
 ],
 "metadata": {
  "kernelspec": {
   "display_name": "Python 3",
   "language": "python",
   "name": "python3"
  },
  "language_info": {
   "codemirror_mode": {
    "name": "ipython",
    "version": 3
   },
   "file_extension": ".py",
   "mimetype": "text/x-python",
   "name": "python",
   "nbconvert_exporter": "python",
   "pygments_lexer": "ipython3",
   "version": "3.8.10"
  }
 },
 "nbformat": 4,
 "nbformat_minor": 5
}
